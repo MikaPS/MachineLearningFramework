{
  "cells": [
    {
      "cell_type": "markdown",
      "metadata": {
        "id": "view-in-github",
        "colab_type": "text"
      },
      "source": [
        "<a href=\"https://colab.research.google.com/github/MikaPS/MachineLearningFramework/blob/main/MachineLearningFramework.ipynb\" target=\"_parent\"><img src=\"https://colab.research.google.com/assets/colab-badge.svg\" alt=\"Open In Colab\"/></a>"
      ]
    },
    {
      "cell_type": "markdown",
      "metadata": {
        "id": "jJ94s6iJbkeF"
      },
      "source": [
        "Before you turn this problem in, make sure everything runs as expected. First, **restart the kernel** (in the menubar, select Kernel$\\rightarrow$Restart) and then **run all cells** (in the menubar, select Cell$\\rightarrow$Run All).\n",
        "\n",
        "Make sure you fill in any place that says `YOUR CODE HERE` or \"YOUR ANSWER HERE\", as well as your name and collaborators below:"
      ]
    },
    {
      "cell_type": "code",
      "execution_count": null,
      "metadata": {
        "id": "fWyavYBAbkeT"
      },
      "outputs": [],
      "source": [
        "NAME = \"Mika Peer Shalem\"\n",
        "COLLABORATORS = \"\""
      ]
    },
    {
      "cell_type": "markdown",
      "metadata": {
        "id": "h-viCouZbkeX"
      },
      "source": [
        "---"
      ]
    },
    {
      "cell_type": "markdown",
      "metadata": {
        "deletable": false,
        "editable": false,
        "nbgrader": {
          "grade": false,
          "grade_id": "cell-78af3eba3a3a1283",
          "locked": true,
          "schema_version": 3,
          "solution": false
        },
        "id": "RdOw7AhAbkeY"
      },
      "source": [
        "# CSE 30 Winter 2022 - Homework 11\n",
        "\n",
        "## From Expressions to Machine Learning\n",
        "\n",
        "\n",
        "### Instructions\n",
        "\n",
        "Please disregard the YOUR NAME and COLLABORATORS above.  They are put there atomatically by the grading tool.\n",
        "You can find instructions on how to work on a homework on Canvas.  Here is a short summary:\n",
        "\n",
        "### Submitting your work\n",
        "\n",
        "To submit your work:\n",
        "\n",
        "* First, click on \"Runtime > Restart and run all\", and check that you get no errors.  This enables you to catch any error you might have introduced, and not noticed, due to your running cells out of order.\n",
        "* Second, download the notebook in .ipynb format (File > Download .ipynb) and upload the .ipynb file to [this form](https://docs.google.com/forms/d/e/1FAIpQLSfoAbVAeFyFbKTOxFEgAKOMih5dKc_JlvJ5ckaUPwzJglg7Bw/viewform?usp=sf_link). This homework is due at **11:59pm on Thursday, 17 February 2022**.\n",
        "\n",
        "You can submit multiple times; the last submission before the deadline is the one that counts.\n",
        "\n",
        "### Homework format\n",
        "\n",
        "For each question in this notebook, there is:\n",
        "\n",
        "* A text description of the problem.\n",
        "* One or more places where you have to insert your solution.  You need to complete every place marked:\n",
        "\n",
        "    `# YOUR CODE HERE`\n",
        "    \n",
        "    and you should not modify any other place.\n",
        "* One or more test cells.  Each cell is worth some number of points, marked at the top.  You should not modify these tests cells.  The tests pass if no error is printed out: when there is a statement that says, for instance:\n",
        "\n",
        "    `assert x == 2`\n",
        "    \n",
        "    then the test passes if `x` has value 2, and fails otherwise.  You can insert a `print(x)` (for this case!) somewhere if you want to debug your work; it is up to you.  \n",
        "    \n",
        "### Notes:\n",
        "\n",
        "* Your code will be tested both according to the tests you can see (the `assert` statements you can see), _and_ additional tests.  This prevents you from hard-coding the answer to the particular questions posed.  Your code should solve the _general_ intended case, not hard-code the particular answer for the values used in the tests.\n",
        "\n",
        "* **Please do not delete or add cells!** The test is autograded, and if you modify the test by adding or deleting cells, even if you re-add cells you delete, you may not receive credit.\n",
        "\n",
        "* **Please do not import modules that are not part of the [standard library](https://docs.python.org/3/library/index.html).** You do not need any, and they will likely not available in the grading environment, leading your code to fail.\n",
        "\n",
        "* **If you are inactive too long, your notebook might get disconnected from the back-end.** Your work is never lost, but you have to re-run all the cells before you continue.\n",
        "\n",
        "* You can write out print statements in your code, to help you test/debug it. But remember: the code is graded on the basis of what it outputs or returns, not on the basis of what it prints.\n",
        "\n",
        "* **TAs and tutors have access to this notebook,** so if you let them know you need their help, they can look at your work and give you advice.\n",
        "\n",
        "### Grading\n",
        "\n",
        "Each cell where there are tests is worth a certain number of points.  You get the points allocated to a cell only if you pass _all_ the tests in the cell.\n",
        "\n",
        "The tests in a cell include both the tests you can see, and other, similar, tests that are used for grading only.  Therefore, you cannot hard-code the solutions: you really have to solve the essence of the problem, to receive the points in a cell.\n",
        "\n",
        "### Code of Conduct\n",
        "\n",
        "* Work on the test yourself, alone.\n",
        "* You can search documentation on the web, on sites such as the Python documentation sites, Stackoverflow, and similar, and you can use the results.\n",
        "* You cannot share your work with others or solicit their help.\n"
      ]
    },
    {
      "cell_type": "markdown",
      "metadata": {
        "deletable": false,
        "editable": false,
        "nbgrader": {
          "grade": false,
          "grade_id": "cell-18373bb7960733f1",
          "locked": true,
          "schema_version": 3,
          "solution": false
        },
        "id": "-vjmkFRqbkeb"
      },
      "source": [
        "## ML in a nutshell\n",
        "\n",
        "Optimization, and machine learning, are intimately connected.  At a very coarse level, ML works as follows.\n",
        "\n",
        "First, you come up somehow with a very complicated model $\\hat{y} = M(x, \\theta)$, which computes an output $\\hat{y}$ as a function of an input $x$ and of a vector of parameters $\\theta$.   In general, $x$, $y$, and $\\theta$ are vectors, as the model has multiple inputs, multiple outputs, and several parameters.  The model $M$ needs to be complicated, because only complicated models can represent complicated phenomena; for instance, $M$ can be a multi-layer neural net with parameters $\\theta = [\\theta_1, \\ldots, \\theta_k]$, where $k$ is the number of parameters of the model.\n",
        "\n",
        "Second, you come up with a notion of _loss_ $L$, that is, how badly the model is doing.  For instance, if you have a list of inputs $x_1, \\ldots, x_n$, and a set of desired outputs $y_1, \\ldots, y_m$, you can use as loss:\n",
        "\n",
        "$$\n",
        "L(\\theta) = \\sum_{i=1}^n |\\!|y_i - \\hat{y}_i |\\!| = \\sum_{i=1}^n |\\!| y_i - M({x}_i, \\theta)|\\!| \\; .\n",
        "$$\n",
        "\n",
        "Here, we wrote $L(\\theta)$ because, once the inputs $x_1, \\ldots, x_n$ and the desired outputs $y_1, \\ldots, y_n$ are chosen, the loss $L$ depends only on $\\theta$.\n",
        "\n",
        "Once the loss is chosen, you decrease it, by computing its _gradient_ with respect to ${\\theta}$.  Remembering that ${\\theta} = [\\theta_1, \\ldots, \\theta_k]$,\n",
        "\n",
        "$$\n",
        "\\nabla_{\\theta} L = \\left[ \\frac{\\partial L}{\\partial \\theta_1}, \\ldots,\n",
        "    \\frac{\\partial L}{\\partial \\theta_k} \\right] \\; .\n",
        "$$\n",
        "\n",
        "The gradient is a vector that indicates how to tweak ${\\theta}$ to decrease the loss.  You then choose a small _step size_ $\\delta$, and you update ${\\theta}$ via ${\\theta} := {\\theta} - \\delta \\nabla_{\\theta} L$.  This makes the loss a little bit smaller, and the model a little bit better.  If you repeat this step many times, the model will hopefully get (a good bit) better.\n",
        "\n",
        "## Autogradient\n",
        "\n",
        "The key to _pleasant_ ML is to focus on building the model $M$ in a way that is sufficiently expressive, and on choosing a loss $L$ that is helpful in guiding the optimization.  The computation of the gradient is done automatically for you.  This capability, called _autogradient_, is implemented in ML frameworks such as [Tensorflow](https://www.tensorflow.com), [Keras](https://keras.io), and [PyTorch](https://pytorch.org).  \n",
        "\n",
        "It is possible to use these advanced ML libraries without ever knowing what is under the hood, and how autogradient works.  Here, we will insted dive in, and implement autogradient.  \n",
        "\n",
        "Building a model $M$ corresponds to building an expression with inputs ${x}$, ${\\theta}$.  We will provide a representaton for expressions that enables both the calculation of the expression value, and the differentiation with respect to any of the inputs.  This will enable us to implement autogradient.  On the basis of this, we will be able to implement a simple ML framework.\n",
        "\n",
        "We say we, but we mean you.  _You_ will implement it; we will just provide guidance."
      ]
    },
    {
      "cell_type": "markdown",
      "metadata": {
        "deletable": false,
        "editable": false,
        "nbgrader": {
          "grade": false,
          "grade_id": "cell-ff61b1db363204fb",
          "locked": true,
          "schema_version": 3,
          "solution": false
        },
        "id": "EnwWHIG_bkeh"
      },
      "source": [
        "## Overview\n",
        "\n",
        "Let us give you a preview of how our ML framework works with an example.\n",
        "\n",
        "Assume for simplicity that our ML problem has only one input $x$, and one output $y$.  We are given many pairs $x_1, y_1, \\ldots, x_n, y_n$ of training input/output pairs, and we want to approximate the input-output relation via a parabola, whose coefficient we need to determine.  In particular, the predicted $\\hat{y}$ is given by:\n",
        "\n",
        "$$\n",
        "\\hat{y} = a x^2 + bx + c\n",
        "$$\n",
        "\n",
        "and the coefficients of the model $M$ are ${\\theta} = [a, b, c]$.  We build our model $M$ as an expression giving $\\hat{y}$ as an expression with variables $x, a, b, c$.  We write:\n",
        "\n",
        "    x = V()\n",
        "    a = V()\n",
        "    b = V()\n",
        "    c = V()\n",
        "\n",
        "    oy = a * x * x + b * x + c\n",
        "\n",
        "where `oy` is our _predicted_ output $\\hat{y}$.  We can then compute the loss, for instance using the quadratic distance of the output to the true $y$:\n",
        "\n",
        "    y = V()\n",
        "    loss = (y - oy) * (y - oy)\n",
        "\n",
        "In the code above, `oy` and `loss` are objects of class `Expr`.  If we have a particular input $x_0$, and desired output $y_0$, where both $x_0$ and $y_0$ are numbers, we can do:\n",
        "\n",
        "    x.assign(x0)\n",
        "    y.assign(v0)\n",
        "    loss.eval()\n",
        "\n",
        "and obtain the loss.  Then, we can backpropagate the gradient of the loss to the model variables, that is, compute $\\partial L / \\partial a$, $\\partial L / \\partial b$, $\\partial L / \\partial c$, via:\n",
        "\n",
        "    loss.zero_gradient()\n",
        "    loss.compute_gradient()\n",
        "\n",
        "We can then find the gradient $\\partial L / \\partial a$ in `a.gradient`, and similarly for the other variables.\n",
        "We can update the value of `a` simply via:\n",
        "\n",
        "    a.assign(a.eval() - delta * a.gradient)\n",
        "\n",
        "where `delta` is the learning step. To make all this work, what we need to do is endow our expressions with the methods for gradient propagation, namely, `zero_gradient` and `compute_gradient`.\n",
        "We will guide you through this.\n"
      ]
    },
    {
      "cell_type": "markdown",
      "metadata": {
        "deletable": false,
        "editable": false,
        "nbgrader": {
          "grade": false,
          "grade_id": "cell-fa928eca41f6fe6f",
          "locked": true,
          "schema_version": 3,
          "solution": false
        },
        "id": "vCEzQ-M7bkek"
      },
      "source": [
        "## Our Expression Class\n",
        "\n",
        "We repeat here our definition of the `Expr` class from the last chapter.\n"
      ]
    },
    {
      "cell_type": "code",
      "execution_count": null,
      "metadata": {
        "deletable": false,
        "editable": false,
        "nbgrader": {
          "grade": false,
          "grade_id": "cell-cbb2404bf6c3591",
          "locked": true,
          "schema_version": 3,
          "solution": false
        },
        "id": "F3iB0oobbken"
      },
      "outputs": [],
      "source": [
        "class Expr(object):\n",
        "    \"\"\"Abstract class representing expressions\"\"\"\n",
        "\n",
        "    def __init__(self, *args):\n",
        "        \"\"\"An object is created by passing to the constructor the children\"\"\"\n",
        "        self.children = args\n",
        "        self.value = None # The value of the expression\n",
        "        self.child_values = None # The values of the children; useful to have\n",
        "        self.gradient = None # This is where we will accummulate the gradient.\n",
        "\n",
        "    def eval(self):\n",
        "        \"\"\"Evaluates the expression.\"\"\"\n",
        "        # First, we evaluate the children.\n",
        "        self.child_values = [c.eval() if isinstance(c, Expr) else c\n",
        "                             for c in self.children]\n",
        "        # Then, we evaluate the expression itself.\n",
        "        self.value = self.op(*self.child_values)\n",
        "        return self.value\n",
        "\n",
        "    def op(self):\n",
        "        \"\"\"This operator must be implemented in subclasses; it should\n",
        "        compute self.value from self.values, thus implementing the\n",
        "        operator at the expression node.\"\"\"\n",
        "        raise NotImplementedError()\n",
        "\n",
        "    def __repr__(self):\n",
        "        \"\"\"Represents the expression as the name of the class, followed by the\n",
        "        children, and teh value.\"\"\"\n",
        "        return \"{}({})\".format(self.__class__.__name__,\n",
        "                                  ', '.join(repr(c) for c in self.children))\n",
        "\n",
        "    # Expression constructors\n",
        "\n",
        "    def __add__(self, other):\n",
        "        return Plus(self, other)\n",
        "\n",
        "    def __radd__(self, other):\n",
        "        return Plus(self, other)\n",
        "\n",
        "    def __sub__(self, other):\n",
        "        return Minus(self, other)\n",
        "\n",
        "    def __rsub__(self, other):\n",
        "        return Minus(other, self)\n",
        "\n",
        "    def __mul__(self, other):\n",
        "        return Multiply(self, other)\n",
        "\n",
        "    def __rmul__(self, other):\n",
        "        return Multiply(other, self)\n",
        "\n",
        "    def __truediv__(self, other):\n",
        "        return Divide(self, other)\n",
        "\n",
        "    def __rtruediv__(self, other):\n",
        "        return Divide(other, self)\n",
        "\n",
        "    def __neg__(self):\n",
        "        return Negative(self)\n"
      ]
    },
    {
      "cell_type": "code",
      "execution_count": null,
      "metadata": {
        "deletable": false,
        "editable": false,
        "nbgrader": {
          "grade": false,
          "grade_id": "cell-e7af0399dfd4c725",
          "locked": true,
          "schema_version": 3,
          "solution": false
        },
        "id": "kv2zXeeMbkep"
      },
      "outputs": [],
      "source": [
        "import random\n",
        "import string\n",
        "\n",
        "class V(Expr):\n",
        "    \"\"\"Variable.\"\"\"\n",
        "\n",
        "    def __init__(self, value=None):\n",
        "        super().__init__()\n",
        "        self.children = []\n",
        "        self.value = random.gauss(0, 1) if value is None else value\n",
        "        self.name = ''.join(\n",
        "            random.choices(string.ascii_letters + string.digits, k=8))\n",
        "\n",
        "    def eval(self):\n",
        "        return self.value\n",
        "\n",
        "    def assign(self, value):\n",
        "        self.value = value\n",
        "\n",
        "    def __repr__(self):\n",
        "        return \"V(name={}, value={})\".format(self.name, self.value)\n"
      ]
    },
    {
      "cell_type": "code",
      "execution_count": null,
      "metadata": {
        "deletable": false,
        "editable": false,
        "nbgrader": {
          "grade": false,
          "grade_id": "cell-c1f9c8b8c56982d9",
          "locked": true,
          "schema_version": 3,
          "solution": false
        },
        "id": "pMn8OdlAbker"
      },
      "outputs": [],
      "source": [
        "class Plus(Expr):\n",
        "    def op(self, x, y):\n",
        "        return x + y\n",
        "\n",
        "class Minus(Expr):\n",
        "    def op(self, x, y):\n",
        "        return x - y\n",
        "\n",
        "class Multiply(Expr):\n",
        "    def op(self, x, y):\n",
        "        return x * y\n",
        "\n",
        "class Divide(Expr):\n",
        "    def op(self, x, y):\n",
        "        return x / y\n",
        "\n",
        "class Negative(Expr):\n",
        "    def op(self, x):\n",
        "        return -x\n"
      ]
    },
    {
      "cell_type": "code",
      "execution_count": null,
      "metadata": {
        "deletable": false,
        "editable": false,
        "nbgrader": {
          "grade": false,
          "grade_id": "cell-bad206a729ae826c",
          "locked": true,
          "schema_version": 3,
          "solution": false
        },
        "id": "00I9LF8jbket"
      },
      "outputs": [],
      "source": [
        "vx = V(value=3)\n",
        "vy = V(value=2)\n",
        "e = vx - vy\n",
        "assert e.eval() == 1.\n"
      ]
    },
    {
      "cell_type": "markdown",
      "metadata": {
        "deletable": false,
        "editable": false,
        "nbgrader": {
          "grade": false,
          "grade_id": "cell-bd5d15d0a0cfe8fe",
          "locked": true,
          "schema_version": 3,
          "solution": false
        },
        "id": "fK-c161obkex"
      },
      "source": [
        "## Implementing autogradient\n",
        "\n",
        "The next step consists in implementing autogradient.  Consider an expression $e = E(x_0, \\ldots, x_n)$, computed as function of its children expressions $x_0, \\ldots, x_n$.  \n",
        "\n",
        "The goal of the autogradient computation is to accumulate, in each node of the expression, the gradient of the loss with respect to the node's value.  For instance, if the gradient is $2$, we know that if we increase the value of the expression by $\\Delta$, then the value of the loss is increased by $2 \\Delta$. We accumulate the gradient in the field `self.gradient` of the expression.\n",
        "\n",
        "We say _accumulate_ the gradient, because we don't really do:\n",
        "\n",
        "    self.gradient = ...\n",
        "\n",
        "Rather, we have a method `e.zero_gradient()` that sets all gradients to 0, and we then _add_ the gradient to this initial value of 0:\n",
        "\n",
        "    self.gradient += ...\n",
        "\n",
        "We will explain later in detail why we do so; for the moment, just accept it.\n",
        "\n",
        "### Computaton of the gradient\n",
        "\n",
        "In the computation of the autogradient, the expression will receive as input the value $\\partial L / \\partial e$, where $L$ is the loss, and $e$ the value of the expression.  The quantity $\\partial L / \\partial e$ is the gradient of the loss with respect to the expression value.\n",
        "\n",
        "With this input, the method `compute_gradient` of an Expr $e$ must do the following:\n",
        "\n",
        "* It must _add_ $\\partial L / \\partial e$ to the gradient `self.gradient` of the expression.\n",
        "* It must call the method `operator_gradient`.  If the expression node has children $c_1, \\ldots, c_n$, the method `operator_gradient` must return the list of derivatives of $e$ with respect to its children $x_1, \\ldots, x_n$:\n",
        "\n",
        "  $$\n",
        "  \\left[ \\frac{\\partial e}{\\partial x_1}, \\ldots,\n",
        "    \\frac{\\partial e}{\\partial x_n} \\right]\n",
        "  $$\n",
        "\n",
        "  The method `operator_gradient` is implemented not directly in the class `Expr`, but for each specific operator, such as `Plus`, `Multiply`, etc: each operator knows how to compute the partial derivative of its output with respect to its children (its arguments).\n",
        "* It must propagate to each child $x_i$ the gradient\n",
        "\n",
        "  $$\n",
        "  \\frac{\\partial L}{\\partial e} \\cdot \\frac{\\partial e}{\\partial x_i} \\; ,\n",
        "  $$\n",
        "\n",
        "  by calling the method `compute_gradient` of the child with argument $\\frac{\\partial L}{\\partial e} \\cdot \\frac{\\partial e}{\\partial x_i}$."
      ]
    },
    {
      "cell_type": "code",
      "execution_count": null,
      "metadata": {
        "deletable": false,
        "editable": false,
        "nbgrader": {
          "grade": false,
          "grade_id": "cell-cfe6722802522430",
          "locked": true,
          "schema_version": 3,
          "solution": false
        },
        "id": "eM4QsMbkbkey"
      },
      "outputs": [],
      "source": [
        "def expr_operator_gradient(self):\n",
        "    \"\"\"This method computes the derivative of the operator at the expression\n",
        "    node.  It needs to be implemented in derived classes, such as Plus,\n",
        "    Multiply, etc.\"\"\"\n",
        "    raise NotImplementedError()\n",
        "\n",
        "Expr.operator_gradient = expr_operator_gradient\n",
        "\n",
        "def expr_zero_gradient(self):\n",
        "    \"\"\"Sets the gradient to 0, recursively for this expression\n",
        "    and all its children.\"\"\"\n",
        "    self.gradient = 0\n",
        "    for e in self.children:\n",
        "        if isinstance(e, Expr):\n",
        "            e.zero_gradient()\n",
        "\n",
        "Expr.zero_gradient = expr_zero_gradient\n",
        "\n",
        "def expr_compute_gradient(self, de_loss_over_de_e=1):\n",
        "    \"\"\"Computes the gradient.\n",
        "    de_loss_over_de_e is the gradient of the output.\n",
        "    de_loss_over_de_e will be added to the gradient, and then\n",
        "    we call for each child the method compute_gradient,\n",
        "    with argument de_loss_over_de_e * d expression / d child.\n",
        "    The value d expression / d child is computed by self.derivate. \"\"\"\n",
        "    pass # We will write this later.\n",
        "\n",
        "Expr.compute_gradient = expr_compute_gradient\n"
      ]
    },
    {
      "cell_type": "markdown",
      "metadata": {
        "deletable": false,
        "editable": false,
        "nbgrader": {
          "grade": false,
          "grade_id": "cell-7ecc4a7522f513d1",
          "locked": true,
          "schema_version": 3,
          "solution": false
        },
        "id": "Y0lZf7j2bkez"
      },
      "source": [
        "Let us endow our classes `Plus` and `Multiply` with the `operator_gradient` method, so you can see how it works in practice."
      ]
    },
    {
      "cell_type": "code",
      "execution_count": null,
      "metadata": {
        "deletable": false,
        "editable": false,
        "nbgrader": {
          "grade": false,
          "grade_id": "cell-1eaf42dde039c129",
          "locked": true,
          "schema_version": 3,
          "solution": false
        },
        "id": "9r41hQCdbke0"
      },
      "outputs": [],
      "source": [
        "def plus_operator_gradient(self):\n",
        "    # If e = x + y, de / dx = 1, and de / dy = 1\n",
        "    return 1, 1\n",
        "\n",
        "Plus.operator_gradient = plus_operator_gradient\n",
        "\n",
        "def multiply_operator_gradient(self):\n",
        "    # If e = x * y, de / dx = y, and de / dy = x\n",
        "    x, y = self.child_values\n",
        "    return y, x\n",
        "\n",
        "Multiply.operator_gradient = multiply_operator_gradient\n",
        "\n",
        "def variable_operator_gradient(self):\n",
        "    # This is not really used, but it needs to be here for completeness.\n",
        "    return None\n",
        "\n",
        "V.operator_gradient = variable_operator_gradient\n"
      ]
    },
    {
      "cell_type": "markdown",
      "metadata": {
        "deletable": false,
        "editable": false,
        "nbgrader": {
          "grade": false,
          "grade_id": "cell-ec1809d700d93c10",
          "locked": true,
          "schema_version": 3,
          "solution": false
        },
        "id": "E3y90T09bke1"
      },
      "source": [
        "Let us comment on some subtle points, before you get to work at implementing `compute_gradient`.  \n",
        "\n",
        "**`zero_gradient`:** First, notice how in the implementation of `zero_gradient`, when we loop over the children, we check whether each children is an `Expr` via isinstance(e, Expr).  In general, we have to remember that children can be either `Expr`, or simply numbers, and of course numbers do not have methods such as `zero_gradient` or `compute_gradient` implemented for them.\n",
        "\n",
        "**`operator_gradient`:** Second, notice how `operator_gradient` is not implemented in `Expr` directly, but rather, only in the derived classes such as `Plus`.  The derivative of the expression with respect to its arguments depends on which function it is, obviously.  \n",
        "\n",
        "For `Plus`, we have $e = x_0 + x_1$, and so:\n",
        "\n",
        "$$\n",
        "\\frac{\\partial e}{\\partial x_0} = 1 \\qquad \\frac{\\partial e}{\\partial x_1} = 1 \\; ,\n",
        "$$\n",
        "\n",
        "because $d(x+y)/dx = 1$.  Hence, the `operator_gradient` method of `Plus` returns\n",
        "\n",
        "$$\n",
        "\\left[ \\frac{\\partial e}{\\partial x_0}, \\: \\frac{\\partial e}{\\partial x_1}\\right] \\; = \\; [1, 1] \\; .\n",
        "$$\n",
        "\n",
        "For `Multiply`, we have $e = x_0 \\cdot x_1$, and so:\n",
        "\n",
        "$$\n",
        "\\frac{\\partial e}{\\partial x_0} = x_1 \\qquad \\frac{\\partial e}{\\partial x_1} = x_0 \\; ,\n",
        "$$\n",
        "\n",
        "because $d(xy)/dx = y$.  Hence, the `operator_gradient` method of `Plus` returns\n",
        "\n",
        "$$\n",
        "\\left[ \\frac{\\partial e}{\\partial x_0}, \\: \\frac{\\partial e}{\\partial x_1}\\right] \\; = \\; [x_1, x_0] \\; .\n",
        "$$\n",
        "\n",
        "\n",
        "**Calling `compute` before `compute_gradient`:** Lastly, a very important point: when calling `compute_gradient`, we will assume that `eval` has _already_ been called.  In this way, the value of the expression, and its children, are available for the computation of the gradient.  Note how in `Multiply.compute_gradient` we use these values in order to compute the partial derivatives."
      ]
    },
    {
      "cell_type": "markdown",
      "metadata": {
        "deletable": false,
        "editable": false,
        "nbgrader": {
          "grade": false,
          "grade_id": "cell-318f11eae1f2f70a",
          "locked": true,
          "schema_version": 3,
          "solution": false
        },
        "id": "T5FePorobke3"
      },
      "source": [
        "With these clarifications, we ask you to implement the `compute_gradient` method, which again must:\n",
        "\n",
        "* _add_ $\\partial L / \\partial e$ to the gradient `self.gradient` of the expression;\n",
        "* compute $\\frac{\\partial e}{\\partial x_i}$ by calling the method `operator_gradient` of itself;\n",
        "* propagate to each child $x_i$ the gradient $\\frac{\\partial L}{\\partial e} \\cdot \\frac{\\partial e}{\\partial x_i}$, by calling the method `compute_gradient` of the child $i$ with argument $\\frac{\\partial L}{\\partial e} \\cdot \\frac{\\partial e}{\\partial x_i}$."
      ]
    },
    {
      "cell_type": "markdown",
      "metadata": {
        "deletable": false,
        "editable": false,
        "nbgrader": {
          "grade": false,
          "grade_id": "cell-14887947d7d28cf8",
          "locked": true,
          "schema_version": 3,
          "solution": false,
          "task": false
        },
        "id": "SrCnr9qgbke4"
      },
      "source": [
        "### Question 1: Implementation of `compute_gradient`"
      ]
    },
    {
      "cell_type": "code",
      "execution_count": null,
      "metadata": {
        "deletable": false,
        "nbgrader": {
          "grade": false,
          "grade_id": "cell-1844227970a6319c",
          "locked": false,
          "schema_version": 3,
          "solution": true
        },
        "id": "ggHspWRBbke4"
      },
      "outputs": [],
      "source": [
        "### Exercise: Implementation of `compute_gradient`\n",
        "\n",
        "def expr_compute_gradient(self, de_loss_over_de_e=1):\n",
        "    \"\"\"Computes the gradient.\n",
        "    de_loss_over_de_e is the gradient of the output.\n",
        "    de_loss_over_de_e will be added to the gradient, and then\n",
        "    we call for each child the method compute_gradient,\n",
        "    with argument de_loss_over_de_e * d expression / d child.\n",
        "    The value d expression / d child is computed by self.compute_gradient. \"\"\"\n",
        "    # YOUR CODE HERE\n",
        "    self.gradient += de_loss_over_de_e\n",
        "    if isinstance(self, Expr) and isinstance(self, V) == False:\n",
        "        derivate_of_c = self.operator_gradient()\n",
        "        for i in range(0, len(self.children)):\n",
        "            if isinstance(self.children[i], Expr):\n",
        "                self.children[i].compute_gradient(de_loss_over_de_e * derivate_of_c[i])\n",
        "Expr.compute_gradient = expr_compute_gradient\n"
      ]
    },
    {
      "cell_type": "code",
      "execution_count": null,
      "metadata": {
        "deletable": false,
        "nbgrader": {
          "grade": false,
          "grade_id": "cell-bec8e80ad8b82f40",
          "locked": false,
          "schema_version": 3,
          "solution": true,
          "task": false
        },
        "id": "rJIBy0aMbke5"
      },
      "outputs": [],
      "source": [
        "# YOUR CODE HERE\n",
        "vx = V(value=1)\n",
        "vw = V(value=3)\n",
        "vz = V(value=4)\n",
        "va = V(value=10)\n",
        "vb = V(value=2)\n",
        "y = (vx + vw) * (vz + 3) + (vb*3) + (va+3) * (vx*vb)\n",
        "assert y.eval() == 60\n",
        "y.zero_gradient()\n",
        "y.compute_gradient()\n",
        "\n",
        "assert vx.gradient == 33\n",
        "assert vw.gradient == 7\n",
        "assert vz.gradient == 4\n",
        "assert va.gradient == 2\n",
        "assert vb.gradient == 16\n",
        "# vx = V(value=1)\n",
        "# vw = V(value=3)\n",
        "# vz = V(value=4)\n",
        "# y = (vx + vw) * (vz + 3)\n",
        "# assert y.eval() == 28\n",
        "# y.zero_gradient()\n",
        "# y.compute_gradient()\n",
        "# print(\"7 ?=\" , vx.gradient)\n",
        "# print(\"4 ?= \", vz.gradient)"
      ]
    },
    {
      "cell_type": "markdown",
      "metadata": {
        "deletable": false,
        "editable": false,
        "nbgrader": {
          "grade": false,
          "grade_id": "cell-abbc263cf3051878",
          "locked": true,
          "schema_version": 3,
          "solution": false
        },
        "id": "6PqFv9LQbke7"
      },
      "source": [
        "Below are some tests."
      ]
    },
    {
      "cell_type": "code",
      "execution_count": null,
      "metadata": {
        "deletable": false,
        "editable": false,
        "nbgrader": {
          "grade": true,
          "grade_id": "cell-513c4fe522ffd93e",
          "locked": true,
          "points": 10,
          "schema_version": 3,
          "solution": false
        },
        "id": "NvvS4VPybke8"
      },
      "outputs": [],
      "source": [
        "## Tests for `compute_gradient`\n",
        "\n",
        "# First, the gradient of a sum.\n",
        "vx = V(value=3)\n",
        "vz = V(value=4)\n",
        "y = vx + vz\n",
        "assert y.eval() == 7\n",
        "y.zero_gradient()\n",
        "y.compute_gradient()\n",
        "assert vx.gradient == 1\n",
        "\n",
        "# Second, the gradient of a product.\n",
        "vx = V(value=3)\n",
        "vz = V(value=4)\n",
        "y = vx * vz\n",
        "assert y.eval() == 12\n",
        "y.zero_gradient()\n",
        "y.compute_gradient()\n",
        "assert vx.gradient == 4\n",
        "assert vz.gradient == 3\n",
        "\n",
        "# Finally, the gradient of the product of sums.\n",
        "\n",
        "vx = V(value=1)\n",
        "vw = V(value=3)\n",
        "vz = V(value=4)\n",
        "y = (vx + vw) * (vz + 3)\n",
        "assert y.eval() == 28\n",
        "y.zero_gradient()\n",
        "y.compute_gradient()\n",
        "assert vx.gradient == 7\n",
        "assert vz.gradient == 4\n",
        "\n"
      ]
    },
    {
      "cell_type": "code",
      "execution_count": null,
      "metadata": {
        "deletable": false,
        "editable": false,
        "nbgrader": {
          "grade": true,
          "grade_id": "cell-b19cdf2c73fe1a74",
          "locked": true,
          "points": 10,
          "schema_version": 3,
          "solution": false
        },
        "id": "fc-nEClWbke9"
      },
      "outputs": [],
      "source": [
        "### Hidden tests for compute gradient\n",
        "\n"
      ]
    },
    {
      "cell_type": "markdown",
      "metadata": {
        "deletable": false,
        "editable": false,
        "nbgrader": {
          "grade": false,
          "grade_id": "cell-69d3aebdab23d9db",
          "locked": true,
          "schema_version": 3,
          "solution": false
        },
        "id": "eGe3q2ZlbkfB"
      },
      "source": [
        "## Why do we accumulate gradients?\n",
        "\n",
        "We are now in the position of answering the question of why we accumulate gradients.  There are two reasons.\n",
        "\n",
        "### Multiple variable occurrence\n",
        "\n",
        "The most important reason why we need to _add_ to the gradient of each node is that nodes, and in particular, variable nodes, can occur in multiple places in an expression tree.  To compute the total influence of the variable on the expression, we need to _sum_ the influence of each occurrence.  Let's see this with a simple example.  Consider the expression $y = x \\cdot x$.  We can code it as follows:\n"
      ]
    },
    {
      "cell_type": "code",
      "execution_count": null,
      "metadata": {
        "deletable": false,
        "editable": false,
        "nbgrader": {
          "grade": false,
          "grade_id": "cell-e7823e2bd0dcf9f0",
          "locked": true,
          "schema_version": 3,
          "solution": false
        },
        "id": "VrKmpPknbkfB"
      },
      "outputs": [],
      "source": [
        "vx = V(2.) # Creates a variable vx and initializes it to 2.\n",
        "y = vx * vx\n"
      ]
    },
    {
      "cell_type": "markdown",
      "metadata": {
        "deletable": false,
        "editable": false,
        "nbgrader": {
          "grade": false,
          "grade_id": "cell-53286a56c2a4e7cf",
          "locked": true,
          "schema_version": 3,
          "solution": false
        },
        "id": "5-Aj-Wj5bkfC"
      },
      "source": [
        "For $y = x^2$, we have $dy / dx = 2x = 4$, given that $x=2$.  How is this reflected in our code?\n",
        "\n",
        "Our code considers separately the left and right occurrences of `vx` in the expression; let us denote them with $vx_l$ and $vx_r$.  The expression can be written as $y = vx_l \\cdot vx_r$, and we have that $\\partial y / \\partial \\, vx_l = vx_r = 2$, as $vx_r = 2$.  Similarly, $\\partial y / \\partial \\, vx_r = 2$.  These two gradients are added to `vx.gradient` by the method `compute_gradient`, and we get that the total gradient is 4, as desired."
      ]
    },
    {
      "cell_type": "code",
      "execution_count": null,
      "metadata": {
        "deletable": false,
        "editable": false,
        "nbgrader": {
          "grade": false,
          "grade_id": "cell-2411a410c89697c4",
          "locked": true,
          "schema_version": 3,
          "solution": false
        },
        "id": "cfnsCOcNbkfD",
        "colab": {
          "base_uri": "https://localhost:8080/"
        },
        "outputId": "37b5a155-7d74-4825-e734-0567b109dc83"
      },
      "outputs": [
        {
          "output_type": "stream",
          "name": "stdout",
          "text": [
            "gradient of vx: 4.0\n"
          ]
        }
      ],
      "source": [
        "y.eval() # We have to call eval() before compute_gradient()\n",
        "y.zero_gradient()\n",
        "y.compute_gradient()\n",
        "print(\"gradient of vx:\", vx.gradient)\n",
        "assert vx.gradient == 4\n"
      ]
    },
    {
      "cell_type": "markdown",
      "metadata": {
        "deletable": false,
        "editable": false,
        "nbgrader": {
          "grade": false,
          "grade_id": "cell-c08948b4b732bf99",
          "locked": true,
          "schema_version": 3,
          "solution": false
        },
        "id": "ZqOWYbvTbkfD"
      },
      "source": [
        "### Multiple data to fit\n",
        "\n",
        "The other reason why we need to tally up the gradient is that in general, we need to fit a function to more than one data point.  Assume that we are given a set of inputs $x_1, x_2, \\ldots, x_n$ and desired outputs $y_1, y_2, \\ldots, y_n$. Our goal is to approximate the desired ouputs via an expression\n",
        "\n",
        "$$\n",
        "y = e(x, \\theta)\n",
        "$$\n",
        "\n",
        "of the input, according to some parameters $\\theta$.  Our goal is to choose the parameters $\\theta$ to minimize the sum of the square errors for the points:\n",
        "\n",
        "$$\n",
        "L_{tot}(\\theta)\n",
        "= \\sum_{i=1}^n L_i(\\theta)\n",
        "= \\sum_{i=1}^n (e(x_i, \\theta) - y_i)^2\n",
        "\\; ,\n",
        "$$\n",
        "\n",
        "where $L_i(\\theta) = (e(x_i, \\theta) - y_i)^2$ is the loss for a single data point.  The gradient $L_{tot}(\\theta)$ with respect to $\\theta$ can be computed by adding up the gradients for the individual points:\n",
        "\n",
        "$$\n",
        "\\frac{\\partial}{\\partial \\theta} L_{tot}(\\theta) \\;=\\;\n",
        "\\sum_{i=1}^n \\frac{\\partial}{\\partial \\theta} L_i(\\theta) \\; .\n",
        "$$\n",
        "\n",
        "To translate this into code, we will build an expression $e(x, \\theta)$ involving the input $x$ and the parameters $\\theta$, and an expression\n",
        "\n",
        "$$\n",
        "L = (e(x, \\theta) - y)^2\n",
        "$$\n",
        "\n",
        "for the loss, involving $x, y$ and $\\theta$.  We will then zero all gradients via `zero_gradient`. Once this is done, we compute the loss $L$ for each point $(x_i, y_i)$, and then the gradient $\\partial L / \\partial \\theta$ via a call to `compute_gradient`.  \n",
        "The gradients for all the points will be added, yielding the gradient for minimizing the total loss over all the points."
      ]
    },
    {
      "cell_type": "markdown",
      "metadata": {
        "deletable": false,
        "editable": false,
        "nbgrader": {
          "grade": false,
          "grade_id": "cell-53a98a2afb678a8",
          "locked": true,
          "schema_version": 3,
          "solution": false
        },
        "id": "UST0FNfwbkfF"
      },
      "source": [
        "## Rounding up the implementation\n",
        "\n",
        "Now that we have implemented autogradient, as well as the operators `Plus` and `Multiply`, it is time to implement the remaining operators:\n",
        "\n",
        "* `Minus`\n",
        "* `Divide` (no need to worry about division by zero)\n",
        "* and the unary minus `Negative`."
      ]
    },
    {
      "cell_type": "markdown",
      "metadata": {
        "deletable": false,
        "editable": false,
        "nbgrader": {
          "grade": false,
          "grade_id": "cell-f3755c1013c22e6f",
          "locked": true,
          "schema_version": 3,
          "solution": false,
          "task": false
        },
        "id": "baKgbjR4bkfG"
      },
      "source": [
        "### Question 2: Implementation of `Minus`, `Divide`, and `Negative`"
      ]
    },
    {
      "cell_type": "code",
      "execution_count": null,
      "metadata": {
        "deletable": false,
        "nbgrader": {
          "grade": false,
          "grade_id": "cell-1766025653f0e249",
          "locked": false,
          "schema_version": 3,
          "solution": true
        },
        "id": "D_QURtO2bkfH"
      },
      "outputs": [],
      "source": [
        "### Exercise: Implementation of `Minus`, `Divide`, and `Negative`\n",
        "\n",
        "def minus_operator_gradient(self):\n",
        "    # If e = x - y, de / dx = ..., and de / dy = ...\n",
        "    # YOUR CODE HERE\n",
        "    return 1, -1\n",
        "\n",
        "\n",
        "Minus.operator_gradient = minus_operator_gradient\n",
        "\n",
        "def divide_operator_gradient(self):\n",
        "    # If e = x / y, de / dx = ..., and de / dy = ...\n",
        "    # YOUR CODE HERE\n",
        "    x, y = self.child_values\n",
        "    return self.eval()/x, -self.eval()/y\n",
        "    return 1/x, -y/x*x\n",
        "    # return [self.eval()/self.children[0].eval(), self.eval()/-self.children[1].eval()]\n",
        "\n",
        "Divide.operator_gradient = divide_operator_gradient\n",
        "\n",
        "def negative_operator_gradient(self):\n",
        "    # If e = -x, de / dx = ...\n",
        "    # YOUR CODE HERE\n",
        "    return -1,\n",
        "\n",
        "Negative.operator_gradient = negative_operator_gradient\n"
      ]
    },
    {
      "cell_type": "code",
      "execution_count": null,
      "metadata": {
        "deletable": false,
        "nbgrader": {
          "grade": false,
          "grade_id": "cell-e87c1b06c803546a",
          "locked": false,
          "schema_version": 3,
          "solution": true,
          "task": false
        },
        "id": "ibAonXk9bkfH",
        "colab": {
          "base_uri": "https://localhost:8080/"
        },
        "outputId": "2a4195ba-3863-40d8-a7f0-4446d45187e0"
      },
      "outputs": [
        {
          "output_type": "stream",
          "name": "stdout",
          "text": [
            "0.5 == 0.5\n",
            "-1.5 == -1.5\n"
          ]
        }
      ],
      "source": [
        "# YOUR CODE HERE\n",
        "vx = V(6)\n",
        "vy = V(2)\n",
        "e = vx / vy\n",
        "assert e.eval() == 3\n",
        "e.zero_gradient()\n",
        "e.compute_gradient()\n",
        "print(vx.gradient, \"== 0.5\")\n",
        "print(vy.gradient, \"== -1.5\")\n",
        "\n",
        "vx = V(6)\n",
        "e = - (vx+vx)\n",
        "# print(e)\n",
        "e.eval()\n",
        "e.zero_gradient()\n",
        "e.compute_gradient()\n",
        "assert vx.gradient == -2"
      ]
    },
    {
      "cell_type": "markdown",
      "metadata": {
        "deletable": false,
        "editable": false,
        "nbgrader": {
          "grade": false,
          "grade_id": "cell-b81e2fd664453f4e",
          "locked": true,
          "schema_version": 3,
          "solution": false
        },
        "id": "uIrlGJeIbkfI"
      },
      "source": [
        "Here are some tests."
      ]
    },
    {
      "cell_type": "code",
      "execution_count": null,
      "metadata": {
        "deletable": false,
        "editable": false,
        "nbgrader": {
          "grade": true,
          "grade_id": "cell-91bf67eb67504360",
          "locked": true,
          "points": 5,
          "schema_version": 3,
          "solution": false
        },
        "id": "BG51w_qwbkfI"
      },
      "outputs": [],
      "source": [
        "### Tests for `Minus`\n",
        "\n",
        "# Minus.\n",
        "vx = V(value=3)\n",
        "vy = V(value=2)\n",
        "e = vx - vy\n",
        "assert e.eval() == 1.\n",
        "e.zero_gradient()\n",
        "e.compute_gradient()\n",
        "assert vx.gradient == 1\n",
        "assert vy.gradient == -1\n",
        "\n"
      ]
    },
    {
      "cell_type": "code",
      "execution_count": null,
      "metadata": {
        "deletable": false,
        "editable": false,
        "nbgrader": {
          "grade": true,
          "grade_id": "cell-f5dcdffaa661df3b",
          "locked": true,
          "points": 5,
          "schema_version": 3,
          "solution": false
        },
        "id": "1Bo3sSFgbkfJ"
      },
      "outputs": [],
      "source": [
        "### Hidden tests for Minus\n",
        "\n"
      ]
    },
    {
      "cell_type": "code",
      "execution_count": null,
      "metadata": {
        "deletable": false,
        "editable": false,
        "nbgrader": {
          "grade": true,
          "grade_id": "cell-1304f29156b334ea",
          "locked": true,
          "points": 5,
          "schema_version": 3,
          "solution": false
        },
        "id": "ipudPz-9bkfL"
      },
      "outputs": [],
      "source": [
        "# Tests for `Divide`\n",
        "\n",
        "# Divide.\n",
        "vx = V(6)\n",
        "vy = V(2)\n",
        "e = vx / vy\n",
        "assert e.eval() == 3\n",
        "e.zero_gradient()\n",
        "e.compute_gradient()\n",
        "assert vx.gradient == 0.5\n",
        "assert vy.gradient == -1.5\n",
        "\n"
      ]
    },
    {
      "cell_type": "code",
      "execution_count": null,
      "metadata": {
        "deletable": false,
        "editable": false,
        "nbgrader": {
          "grade": true,
          "grade_id": "cell-58cccc655bfc3857",
          "locked": true,
          "points": 5,
          "schema_version": 3,
          "solution": false
        },
        "id": "WPToGVevbkfM"
      },
      "outputs": [],
      "source": [
        "### Hidden tests for Divide\n",
        "\n"
      ]
    },
    {
      "cell_type": "code",
      "execution_count": null,
      "metadata": {
        "deletable": false,
        "editable": false,
        "nbgrader": {
          "grade": true,
          "grade_id": "cell-4a3444f67e987315",
          "locked": true,
          "points": 5,
          "schema_version": 3,
          "solution": false
        },
        "id": "aoFMEG5tbkfN"
      },
      "outputs": [],
      "source": [
        "## Tests for `Negative`\n",
        "\n",
        "# Negative\n",
        "vx = V(6)\n",
        "e = - vx\n",
        "assert e.eval() == -6\n",
        "e.zero_gradient()\n",
        "e.compute_gradient()\n",
        "assert vx.gradient == -1\n",
        "\n"
      ]
    },
    {
      "cell_type": "code",
      "execution_count": null,
      "metadata": {
        "deletable": false,
        "editable": false,
        "nbgrader": {
          "grade": true,
          "grade_id": "cell-72cc21f5da55d8f2",
          "locked": true,
          "points": 5,
          "schema_version": 3,
          "solution": false
        },
        "id": "BFHq-oNXbkfO"
      },
      "outputs": [],
      "source": [
        "### Hidden tests for Negative\n",
        "\n"
      ]
    },
    {
      "cell_type": "markdown",
      "metadata": {
        "deletable": false,
        "editable": false,
        "nbgrader": {
          "grade": false,
          "grade_id": "cell-3da02a56cb4c996b",
          "locked": true,
          "schema_version": 3,
          "solution": false
        },
        "id": "huSTSBKobkfS"
      },
      "source": [
        "## Optimization\n",
        "\n",
        "Let us use our ML framework to fit a parabola to a given set of points.  Here is our set of points:"
      ]
    },
    {
      "cell_type": "code",
      "execution_count": null,
      "metadata": {
        "deletable": false,
        "editable": false,
        "nbgrader": {
          "grade": false,
          "grade_id": "cell-8aa88578d56e2898",
          "locked": true,
          "schema_version": 3,
          "solution": false
        },
        "id": "fYCWggAybkfT"
      },
      "outputs": [],
      "source": [
        "points = [\n",
        "    (-2, 2.7),\n",
        "    (-1, 3),\n",
        "    (0, 1.3),\n",
        "    (1, 2.4),\n",
        "    (3, 5.5),\n",
        "    (4, 6.2),\n",
        "    (5, 9.1),\n",
        "]\n"
      ]
    },
    {
      "cell_type": "markdown",
      "metadata": {
        "deletable": false,
        "editable": false,
        "nbgrader": {
          "grade": false,
          "grade_id": "cell-340536614384126e",
          "locked": true,
          "schema_version": 3,
          "solution": false
        },
        "id": "mdJKKZA1bkfT"
      },
      "source": [
        "Let us display these points."
      ]
    },
    {
      "cell_type": "code",
      "execution_count": null,
      "metadata": {
        "deletable": false,
        "editable": false,
        "nbgrader": {
          "grade": false,
          "grade_id": "cell-d9c9426f2029e5ba",
          "locked": true,
          "schema_version": 3,
          "solution": false
        },
        "id": "4MJdcpmQbkfV"
      },
      "outputs": [],
      "source": [
        "import matplotlib\n",
        "import matplotlib.pyplot as plt\n",
        "\n",
        "matplotlib.rcParams['figure.figsize'] = (8.0, 3.)\n",
        "params = {'legend.fontsize': 'large',\n",
        "          'axes.labelsize': 'large',\n",
        "          'axes.titlesize':'large',\n",
        "          'xtick.labelsize':'large',\n",
        "          'ytick.labelsize':'large'}\n",
        "matplotlib.rcParams.update(params)\n",
        "\n",
        "def plot_points(points):\n",
        "    fig, ax = plt.subplots()\n",
        "    xs, ys = zip(*points)\n",
        "    ax.plot(xs, ys, 'r+')\n",
        "    plt.xlabel('x')\n",
        "    plt.ylabel('y')\n",
        "    plt.show()\n"
      ]
    },
    {
      "cell_type": "code",
      "execution_count": null,
      "metadata": {
        "deletable": false,
        "editable": false,
        "nbgrader": {
          "grade": false,
          "grade_id": "cell-a48b2cf20fa4422e",
          "locked": true,
          "schema_version": 3,
          "solution": false
        },
        "id": "yVRDB_MYbkfW",
        "colab": {
          "base_uri": "https://localhost:8080/",
          "height": 319
        },
        "outputId": "74408bf2-3a47-4889-b817-f2e1f0859a08"
      },
      "outputs": [
        {
          "output_type": "display_data",
          "data": {
            "text/plain": [
              "<Figure size 800x300 with 1 Axes>"
            ],
            "image/png": "[encoded data removed]"
          },
          "metadata": {}
        }
      ],
      "source": [
        "plot_points(points)\n"
      ]
    },
    {
      "cell_type": "markdown",
      "metadata": {
        "deletable": false,
        "editable": false,
        "nbgrader": {
          "grade": false,
          "grade_id": "cell-c9712c69647d3859",
          "locked": true,
          "schema_version": 3,
          "solution": false
        },
        "id": "S4ikcmSGbkfX"
      },
      "source": [
        "To fit a parabola to these points, we will build an `Expr` that represents the equation $\\hat{y} = ax^2 + bx + c$, where $\\hat{y}$ is the value of $y$ predicted by our parabola.\n",
        "If $\\hat{y}$ is the predicted value, and $y$ is the observed value, to obtain a better prediction of the observations, we minimize the loss $L = (\\hat{y} - y)^2$, that is, the square prediction error.\n",
        "Written out in detail, our loss is:\n",
        "\n",
        "$$\n",
        "    L \\;=\\; \\left( y - \\hat{y}\\right)^ 2 \\;=\\; \\left( y - (ax^2 + bx + c) \\right)^2 \\; .\n",
        "$$\n",
        "\n",
        "Here, $a, b, c$ are parameters that we need to tune to minimize the loss, and obtain a good fit between the parabola and the points.\n",
        "This tuning, or training, is done by repeating the following process many times:\n",
        "\n",
        "* Zero the gradient\n",
        "* For each point:\n",
        "    * Set the values of x, y to the value of the point.\n",
        "    * Compute the expression giving the loss.\n",
        "    * Backpropagate.  This computes all gradients with respect to the loss, and in particular, the gradients of the coefficients $a, b, c$.\n",
        "* Update the coefficients $a, b, c$ by taking a small step in the direction of the negative gradient (negative, so that the loss decreases)."
      ]
    },
    {
      "cell_type": "code",
      "execution_count": null,
      "metadata": {
        "deletable": false,
        "editable": false,
        "nbgrader": {
          "grade": false,
          "grade_id": "cell-3acd88491586c27a",
          "locked": true,
          "schema_version": 3,
          "solution": false
        },
        "id": "ro9Fa3Cqbkfh"
      },
      "outputs": [],
      "source": [
        "va = V(value=0.)\n",
        "vb = V(value=0.)\n",
        "vc = V(value=0.)\n",
        "vx = V(value=0.)\n",
        "vy = V(value=0.)\n",
        "\n",
        "oy = va * vx * vx + vb * vx + vc\n",
        "\n",
        "loss = (vy - oy) * (vy - oy)\n"
      ]
    },
    {
      "cell_type": "markdown",
      "metadata": {
        "deletable": false,
        "editable": false,
        "nbgrader": {
          "grade": false,
          "grade_id": "cell-234a05abca1faeeb",
          "locked": true,
          "schema_version": 3,
          "solution": false
        },
        "id": "cyQrCp4Kbkfi"
      },
      "source": [
        "## Implementing learning: the `fit` function.\n",
        "\n",
        "The `fit` function minimizes the loss of fitting a series of $(x, y)$ points with a function.  Precisely, the `fit` function takes as input:\n",
        "\n",
        "* An expression `loss`, which gives the loss as a function of the values of two variables, `vx` and `vy`, as well as a list of parameters `params`.  In the above example, `params = [va, vb, vc]`.\n",
        "* A list `points` of $(x, y)$-pairs, such as `[(2, 3), (3.2, 4.1)]`.\n",
        "* A list `params` of parameters to be optimized.  In the above example, `params = [va, vb, vc]`.\n",
        "* A learning-step size `delta`.\n",
        "* A number of iterations `num_iterations`.\n",
        "\n",
        "Below, implement the \"for each point\" part of the above informal description.  Hint: this takes about 4-5 lines of code.  As a reminder, these are the operations you need to use:\n",
        "\n",
        "* For a variable `v`, you can assign it a value `x` by saying `v.assign(x)`.  If you want to assign it a `4`, you do `v.assign(4)`, and so forth (look also at the example at line 13).\n",
        "* Forward propagation: for the loss `loss`, you can compute its value via `loss.compute()`.\n",
        "* Backward propagation: for the loss `loss`, you can perform gradient backpropagation via `loss.compute_gradient()`."
      ]
    },
    {
      "cell_type": "code",
      "execution_count": null,
      "metadata": {
        "deletable": false,
        "editable": false,
        "nbgrader": {
          "grade": false,
          "grade_id": "cell-667f2fc689184d8b",
          "locked": true,
          "schema_version": 3,
          "solution": false
        },
        "id": "SLeAAtyabkfj"
      },
      "outputs": [],
      "source": [
        "def fit(loss, points, params, delta=0.0001, num_iterations=4000):\n",
        "    \"\"\"\n",
        "    @param loss: expression giving the loss as a function of variables and parameters.\n",
        "    @param points: list of (x, y) values to which we have to fit the expression.\n",
        "    @param params: list of parameters whose value we can tune.\n",
        "    @param delta: learning step size.\n",
        "    @param num_iterations: number of learning iterations.\n",
        "    \"\"\"\n",
        "\n",
        "    for iteration_idx in range(num_iterations):\n",
        "        loss.zero_gradient()\n",
        "        total_loss = 0.\n",
        "        for x, y in points:\n",
        "            ### You need to implement here the computaton of the\n",
        "            ### loss gradient for the point (x, y).\n",
        "            total_loss += loss.value\n",
        "        if (iteration_idx + 1) % 100 == 0:\n",
        "            print(\"Loss:\", total_loss)\n",
        "        for vv in params:\n",
        "            vv.assign(vv.value - delta * vv.gradient)\n",
        "    return total_loss\n"
      ]
    },
    {
      "cell_type": "markdown",
      "metadata": {
        "deletable": false,
        "editable": false,
        "nbgrader": {
          "grade": false,
          "grade_id": "cell-f9336d5ccc725f17",
          "locked": true,
          "schema_version": 3,
          "solution": false,
          "task": false
        },
        "id": "9QCxtA9Xbkfk"
      },
      "source": [
        "### Question 3: Implementation of `fit`"
      ]
    },
    {
      "cell_type": "code",
      "execution_count": null,
      "metadata": {
        "deletable": false,
        "nbgrader": {
          "grade": false,
          "grade_id": "cell-f04646e2128179f7",
          "locked": false,
          "schema_version": 3,
          "solution": true
        },
        "id": "1OsVsTAZbkfl"
      },
      "outputs": [],
      "source": [
        "### Exercise: Implementation of `fit`\n",
        "\n",
        "def fit(loss, points, params, delta=0.0001, num_iterations=4000):\n",
        "    \"\"\"\n",
        "    @param loss: expression giving the loss as a function of variables and parameters.\n",
        "    @param points: list of (x, y) values to which we have to fit the expression.\n",
        "    @param params: list of parameters whose value we can tune.\n",
        "    @param delta: learning step size.\n",
        "    @param num_iterations: number of learning iterations.\n",
        "    \"\"\"\n",
        "\n",
        "    for iteration_idx in range(num_iterations): # iterating num_iteration times\n",
        "        loss.zero_gradient() # zero the gradient\n",
        "        total_loss = 0.\n",
        "        for x, y in points: # setting x,y to the value of a point\n",
        "            # YOUR CODE HERE\n",
        "            vx.assign(x) # assigning the values of points to variables\n",
        "            vy.assign(y)\n",
        "            # print(\"vx, vy: \", vx, vy)\n",
        "            loss.eval()\n",
        "            loss.compute_gradient()\n",
        "            # print(\"loss\", loss)\n",
        "            # MY CODE STOPS\n",
        "            total_loss += loss.value\n",
        "        if (iteration_idx + 1) % 100 == 0:\n",
        "            print(\"Loss:\", total_loss)\n",
        "        for vv in params:\n",
        "            vv.assign(vv.value - delta * vv.gradient) # optimization of param\n",
        "    return total_loss\n"
      ]
    },
    {
      "cell_type": "code",
      "execution_count": null,
      "metadata": {
        "deletable": false,
        "nbgrader": {
          "grade": false,
          "grade_id": "cell-fe679c0f1ded760a",
          "locked": false,
          "schema_version": 3,
          "solution": true,
          "task": false
        },
        "id": "GX69cDDRbkfl"
      },
      "outputs": [],
      "source": [
        "# YOUR CODE HERE"
      ]
    },
    {
      "cell_type": "markdown",
      "metadata": {
        "deletable": false,
        "editable": false,
        "nbgrader": {
          "grade": false,
          "grade_id": "cell-ea47b206a29010cb",
          "locked": true,
          "schema_version": 3,
          "solution": false
        },
        "id": "Hx_twhZYbkfm"
      },
      "source": [
        "Let's train the coefficients `va`, `vb`, `vc`:"
      ]
    },
    {
      "cell_type": "code",
      "execution_count": null,
      "metadata": {
        "deletable": false,
        "editable": false,
        "nbgrader": {
          "grade": false,
          "grade_id": "cell-bae9b9c8acf0dca8",
          "locked": true,
          "schema_version": 3,
          "solution": false
        },
        "id": "Me8rH3xvbkfn",
        "colab": {
          "base_uri": "https://localhost:8080/"
        },
        "outputId": "4d413703-63b0-4a13-a3bc-0802efde8f00"
      },
      "outputs": [
        {
          "output_type": "stream",
          "name": "stdout",
          "text": [
            "Loss: 15.691480263172831\n",
            "Loss: 13.628854145973717\n",
            "Loss: 11.95710461470721\n",
            "Loss: 10.577288435238483\n",
            "Loss: 9.421709915417068\n",
            "Loss: 8.442894724380599\n",
            "Loss: 7.606627717852742\n",
            "Loss: 6.887533665385938\n",
            "Loss: 6.266252079473012\n",
            "Loss: 5.727613949776414\n",
            "Loss: 5.259450432876111\n",
            "Loss: 4.851802101057622\n",
            "Loss: 4.4963837663728965\n",
            "Loss: 4.18621382152429\n",
            "Loss: 3.9153507183966223\n",
            "Loss: 3.6787002636071753\n",
            "Loss: 3.471870598609928\n",
            "Loss: 3.2910600093895632\n",
            "Loss: 3.13296792199636\n",
            "Loss: 2.9947227347465053\n",
            "Loss: 2.8738222326925422\n",
            "Loss: 2.768083672161589\n",
            "Loss: 2.6756014919475786\n",
            "Loss: 2.594711177586694\n",
            "Loss: 2.523958185206276\n",
            "Loss: 2.462071090153853\n",
            "Loss: 2.4079383059994615\n",
            "Loss: 2.360587848696134\n",
            "Loss: 2.3191697158813342\n",
            "Loss: 2.28294052348259\n",
            "Loss: 2.251250098021605\n",
            "Loss: 2.2235297678961032\n",
            "Loss: 2.199282133501638\n",
            "Loss: 2.1780721263873506\n",
            "Loss: 2.1595191931327227\n",
            "Loss: 2.1432904612844434\n",
            "Loss: 2.1290947632296184\n",
            "Loss: 2.1166774098449848\n",
            "Loss: 2.105815619569577\n",
            "Loss: 2.096314520528721\n"
          ]
        }
      ],
      "source": [
        "lv = fit(loss, points, [va, vb, vc])\n",
        "assert lv < 2.5\n"
      ]
    },
    {
      "cell_type": "markdown",
      "metadata": {
        "deletable": false,
        "editable": false,
        "nbgrader": {
          "grade": false,
          "grade_id": "cell-2fe2a31fe58a9130",
          "locked": true,
          "schema_version": 3,
          "solution": false
        },
        "id": "exqLMSzAbkfn"
      },
      "source": [
        "Let's display the parameter values after the training:"
      ]
    },
    {
      "cell_type": "code",
      "execution_count": null,
      "metadata": {
        "deletable": false,
        "editable": false,
        "nbgrader": {
          "grade": false,
          "grade_id": "cell-4fcb1becd722f5d",
          "locked": true,
          "schema_version": 3,
          "solution": false
        },
        "id": "uifKvSN6bkfo",
        "colab": {
          "base_uri": "https://localhost:8080/"
        },
        "outputId": "7dc56862-b433-4489-dae3-44a48a8e8c18"
      },
      "outputs": [
        {
          "output_type": "stream",
          "name": "stdout",
          "text": [
            "a: 0.2676799989525098 b: 0.09448237346204012 c: 1.9726742011455856\n"
          ]
        }
      ],
      "source": [
        "print(\"a:\", va.value, \"b:\", vb.value, \"c:\", vc.value)\n"
      ]
    },
    {
      "cell_type": "markdown",
      "metadata": {
        "deletable": false,
        "editable": false,
        "nbgrader": {
          "grade": false,
          "grade_id": "cell-ea84972032c728b5",
          "locked": true,
          "schema_version": 3,
          "solution": false
        },
        "id": "35Ku-fRrbkfp"
      },
      "source": [
        "Let's display the points, along with the fitted parabola."
      ]
    },
    {
      "cell_type": "code",
      "execution_count": null,
      "metadata": {
        "deletable": false,
        "editable": false,
        "nbgrader": {
          "grade": false,
          "grade_id": "cell-ee2122597339cb51",
          "locked": true,
          "schema_version": 3,
          "solution": false
        },
        "id": "T1hAay7Jbkfp"
      },
      "outputs": [],
      "source": [
        "import numpy as np\n",
        "\n",
        "def plot_points_and_y(points, vx, oy):\n",
        "    fig, ax = plt.subplots()\n",
        "    xs, ys = zip(*points)\n",
        "    ax.plot(xs, ys, 'r+')\n",
        "    x_min, x_max = np.min(xs), np.max(xs)\n",
        "    step = (x_max - x_min) / 100\n",
        "    x_list = list(np.arange(x_min, x_max + step, step))\n",
        "    y_list = []\n",
        "    for x in x_list:\n",
        "        vx.assign(x)\n",
        "        oy.eval()\n",
        "        y_list.append(oy.value)\n",
        "    ax.plot(x_list, y_list)\n",
        "    plt.xlabel('x')\n",
        "    plt.ylabel('y')\n",
        "    plt.show()\n"
      ]
    },
    {
      "cell_type": "code",
      "execution_count": null,
      "metadata": {
        "deletable": false,
        "editable": false,
        "nbgrader": {
          "grade": false,
          "grade_id": "cell-e86fa4da37566ce5",
          "locked": true,
          "schema_version": 3,
          "solution": false
        },
        "id": "tgkZbAW_bkfq",
        "colab": {
          "base_uri": "https://localhost:8080/",
          "height": 319
        },
        "outputId": "3621009b-52be-4c76-b5c7-2f764fb6ec80"
      },
      "outputs": [
        {
          "output_type": "display_data",
          "data": {
            "text/plain": [
              "<Figure size 800x300 with 1 Axes>"
            ],
            "image/png": "[encoded data removed]"
          },
          "metadata": {}
        }
      ],
      "source": [
        "plot_points_and_y(points, vx, oy)\n"
      ]
    },
    {
      "cell_type": "markdown",
      "metadata": {
        "deletable": false,
        "editable": false,
        "nbgrader": {
          "grade": false,
          "grade_id": "cell-64baefca9e7b21d3",
          "locked": true,
          "schema_version": 3,
          "solution": false
        },
        "id": "RBIUtc8Dbkfr"
      },
      "source": [
        "This looks like a good fit!\n",
        "\n",
        "Note that if we chose too large a learning step, we would not converge to a solution.  A large step causes the parameter values to zoom all over the place, possibly missing by large amounts the (local) minima where you want to converge.  In the limit where the step size goes to 0, and the number of steps to infinity, you are guaranteed (if the function is differentiable, and some other hypotheses) converge to the minimum; the problem is that it would take infinitely long.  You will learn in a more in-depth ML class how to tune the step size."
      ]
    },
    {
      "cell_type": "code",
      "execution_count": null,
      "metadata": {
        "deletable": false,
        "editable": false,
        "nbgrader": {
          "grade": false,
          "grade_id": "cell-7d460193c8e25a43",
          "locked": true,
          "schema_version": 3,
          "solution": false
        },
        "id": "vNRaL08obkfs",
        "colab": {
          "base_uri": "https://localhost:8080/"
        },
        "outputId": "dc201b36-b8f5-4533-aeb9-a30f1d8514a6"
      },
      "outputs": [
        {
          "output_type": "stream",
          "name": "stdout",
          "text": [
            "Loss: 7.445536528760376e+257\n",
            "Loss: inf\n",
            "Loss: nan\n",
            "Loss: nan\n",
            "Loss: nan\n",
            "Loss: nan\n",
            "Loss: nan\n",
            "Loss: nan\n",
            "Loss: nan\n",
            "Loss: nan\n"
          ]
        },
        {
          "output_type": "execute_result",
          "data": {
            "text/plain": [
              "nan"
            ]
          },
          "metadata": {},
          "execution_count": 33
        }
      ],
      "source": [
        "# Let us reinitialize the variables.\n",
        "va.assign(0)\n",
        "vb.assign(0)\n",
        "vc.assign(0)\n",
        "# ... and let's use a big step size.\n",
        "fit(loss, points, [va, vb, vc], delta=0.01, num_iterations=1000)\n"
      ]
    },
    {
      "cell_type": "markdown",
      "metadata": {
        "deletable": false,
        "editable": false,
        "nbgrader": {
          "grade": false,
          "grade_id": "cell-c616395bb3e8954e",
          "locked": true,
          "schema_version": 3,
          "solution": false
        },
        "id": "_upswNhJbkft"
      },
      "source": [
        "A step size of 0.01 was enough to take us to infinity and beyond."
      ]
    },
    {
      "cell_type": "markdown",
      "metadata": {
        "deletable": false,
        "editable": false,
        "nbgrader": {
          "grade": false,
          "grade_id": "cell-80727454fc869c28",
          "locked": true,
          "schema_version": 3,
          "solution": false
        },
        "id": "P3IN3hGDbkft"
      },
      "source": [
        "Let us now show you how to fit a simple linear regression: $y = ax + b$, so $L = (y - (ax + b))^2$."
      ]
    },
    {
      "cell_type": "code",
      "execution_count": null,
      "metadata": {
        "deletable": false,
        "editable": false,
        "nbgrader": {
          "grade": false,
          "grade_id": "cell-be5ab975ad1f08f3",
          "locked": true,
          "schema_version": 3,
          "solution": false
        },
        "id": "o2_SJBvJbkfu"
      },
      "outputs": [],
      "source": [
        "# Parameters\n",
        "# Sometimes you have to be careful about initial values.\n",
        "va = V(value=1.)\n",
        "vb = V(value=1.)\n",
        "\n",
        "# x and y\n",
        "vx = V(value=0.)\n",
        "vy = V(value=0.)\n",
        "\n",
        "# Predicted y\n",
        "oy = va * vx + vb\n",
        "\n",
        "# Loss\n",
        "loss = (vy - oy) * (vy - oy)\n"
      ]
    },
    {
      "cell_type": "code",
      "execution_count": null,
      "metadata": {
        "deletable": false,
        "editable": false,
        "nbgrader": {
          "grade": false,
          "grade_id": "cell-5d9beabb62df06ef",
          "locked": true,
          "schema_version": 3,
          "solution": false
        },
        "id": "jACZKHP9bkfv",
        "colab": {
          "base_uri": "https://localhost:8080/"
        },
        "outputId": "2cfac3af-5ae3-4935-bfcd-2cbbc3673929"
      },
      "outputs": [
        {
          "output_type": "stream",
          "name": "stdout",
          "text": [
            "Loss: 28.04911931725314\n",
            "Loss: 24.56807140584221\n",
            "Loss: 22.04737547646302\n",
            "Loss: 20.018461554483544\n",
            "Loss: 18.363064879989466\n",
            "Loss: 17.010221159926804\n",
            "Loss: 15.904419410376471\n",
            "Loss: 15.000526654509262\n",
            "Loss: 14.261674191105309\n",
            "Loss: 13.657727388420048\n",
            "Loss: 13.164054060381849\n",
            "Loss: 12.760519585409948\n",
            "Loss: 12.43066568540981\n",
            "Loss: 12.161039167477448\n",
            "Loss: 11.940643231055738\n",
            "Loss: 11.760488960015408\n",
            "Loss: 11.613228706940784\n",
            "Loss: 11.492856417067383\n",
            "Loss: 11.394462669488892\n",
            "Loss: 11.314034444913947\n",
            "Loss: 11.248291453438622\n",
            "Loss: 11.194552346912685\n",
            "Loss: 11.150625359329684\n",
            "Loss: 11.114718914975501\n",
            "Loss: 11.085368558461209\n",
            "Loss: 11.061377226459106\n",
            "Loss: 11.041766425106331\n",
            "Loss: 11.025736321831346\n",
            "Loss: 11.012633123936265\n",
            "Loss: 11.00192241346032\n",
            "Loss: 10.99316735077883\n",
            "Loss: 10.986010857964564\n",
            "Loss: 10.980161055254529\n",
            "Loss: 10.975379356643991\n",
            "Loss: 10.971470739082786\n",
            "Loss: 10.968275788400177\n",
            "Loss: 10.965664197548818\n",
            "Loss: 10.963529451991706\n",
            "Loss: 10.96178448547398\n",
            "Loss: 10.960358128998926\n"
          ]
        },
        {
          "output_type": "execute_result",
          "data": {
            "text/plain": [
              "10.960358128998926"
            ]
          },
          "metadata": {},
          "execution_count": 35
        }
      ],
      "source": [
        "fit(loss, points, [va, vb])\n"
      ]
    },
    {
      "cell_type": "code",
      "execution_count": null,
      "metadata": {
        "deletable": false,
        "editable": false,
        "nbgrader": {
          "grade": false,
          "grade_id": "cell-50b13ee886842b5",
          "locked": true,
          "schema_version": 3,
          "solution": false
        },
        "id": "Rz2v-GI2bkfv",
        "colab": {
          "base_uri": "https://localhost:8080/",
          "height": 319
        },
        "outputId": "78438beb-55a2-49cc-c52f-90774b4110b5"
      },
      "outputs": [
        {
          "output_type": "display_data",
          "data": {
            "text/plain": [
              "<Figure size 800x300 with 1 Axes>"
            ],
            "image/png": "[encoded data removed]"
          },
          "metadata": {}
        }
      ],
      "source": [
        "plot_points_and_y(points, vx, oy)\n"
      ]
    },
    {
      "cell_type": "markdown",
      "metadata": {
        "deletable": false,
        "editable": false,
        "nbgrader": {
          "grade": false,
          "grade_id": "cell-3ada37a37f2908a4",
          "locked": true,
          "schema_version": 3,
          "solution": false
        },
        "id": "YueH03F8bkfw"
      },
      "source": [
        "## Conclusion\n",
        "\n",
        "Congratulations, you have now implemented the core of [PyTorch](https://pytorch.org)!  Pytorch is build on the ability to write expressions, of which the gradient is computed and automatically propagated; the core constructs, such as `zero_gradient`, `compute_gradient`, and `compute`, are essentially similar.  It is true; Pytorch does add a few things:\n",
        "\n",
        "* Ability to deal with $n$-dimensional tensors, to represent vectors of inputs and outputs.\n",
        "* Optimized backends, using both parallelism and GPUs.\n",
        "* Sophisticated mechanisms to deal with large datasets.\n",
        "* A wide array of operations available on tensors, of which autograd can be computed.\n",
        "* Many implemented heuristics to deal with step size.\n",
        "* Implemented neural layers (sigmoids, ReLU, etc).\n",
        "* Convolutional nets for images.\n",
        "* Recurrent nets and LSTMs of streams of data.\n",
        "\n",
        "And more! But [aside from tensors, backends, GPUs, parallelism, operations, heuristics, neural layers including convolutions and LSTMs, and good output](https://www.youtube.com/watch?v=Y7tvauOJMHo), PyTorch is really nothing more than what you have already implemented."
      ]
    }
  ],
  "metadata": {
    "colab": {
      "provenance": [],
      "include_colab_link": true
    },
    "kernelspec": {
      "display_name": "Python 3",
      "language": "python",
      "name": "python3"
    },
    "language_info": {
      "codemirror_mode": {
        "name": "ipython",
        "version": 3
      },
      "file_extension": ".py",
      "mimetype": "text/x-python",
      "name": "python",
      "nbconvert_exporter": "python",
      "pygments_lexer": "ipython3",
      "version": "3.8.10"
    },
    "test_info": {
      "id": "999ea67704187231b9968380557ad5830c1d241e"
    }
  },
  "nbformat": 4,
  "nbformat_minor": 0
}